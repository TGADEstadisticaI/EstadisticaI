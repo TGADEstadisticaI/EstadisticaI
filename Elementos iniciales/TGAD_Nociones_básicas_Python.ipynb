{
  "nbformat": 4,
  "nbformat_minor": 0,
  "metadata": {
    "colab": {
      "provenance": [],
      "collapsed_sections": [
        "Q-Uh4lDiw-1A",
        "hJHQuwyXkWwN",
        "tFgxVa_Lq6bY",
        "IgVZ65Aa4rSO",
        "LV4nsX898P-P",
        "eHN8IZLBxGUL"
      ],
      "include_colab_link": true
    },
    "kernelspec": {
      "name": "python3",
      "display_name": "Python 3"
    },
    "language_info": {
      "name": "python"
    }
  },
  "cells": [
    {
      "cell_type": "markdown",
      "metadata": {
        "id": "view-in-github",
        "colab_type": "text"
      },
      "source": [
        "<a href=\"https://colab.research.google.com/github/TGADEstadisticaI/EstadisticaI/blob/main/Elementos%20iniciales/TGAD_Nociones_b%C3%A1sicas_Python.ipynb\" target=\"_parent\"><img src=\"https://colab.research.google.com/assets/colab-badge.svg\" alt=\"Open In Colab\"/></a>"
      ]
    },
    {
      "cell_type": "markdown",
      "source": [
        "<figure>\n",
        "<center>\n",
        "<img src='https://www.economicas.uba.ar/wp-content/uploads/2020/08/cropped-logo_FCE.png' />\n",
        "</figure>"
      ],
      "metadata": {
        "id": "drvDSfWaaYWS"
      }
    },
    {
      "cell_type": "markdown",
      "source": [
        "# **Universidad de Buenos Aires**\n",
        "## **Facultad de Ciencias Económicas**\n",
        "\n",
        "### **Estadística I**\n",
        "\n",
        "### Cátedra: Bianco\n",
        "\n",
        "#### **Nociones introductorias a Python**\n",
        "\n",
        "***Material elaborado por la profesora Natalia Salaberry***"
      ],
      "metadata": {
        "id": "eMuYyGo7uqxJ"
      }
    },
    {
      "cell_type": "markdown",
      "source": [
        "# Tipos de datos en Python"
      ],
      "metadata": {
        "id": "Q-Uh4lDiw-1A"
      }
    },
    {
      "cell_type": "markdown",
      "metadata": {
        "id": "hJHQuwyXkWwN"
      },
      "source": [
        "###**1.NÚMEROS**"
      ]
    },
    {
      "cell_type": "markdown",
      "source": [
        "Si bien existen varios tipos de números en Python, nos centraremos en enteros y decimales.\n",
        "\n",
        "<table>\n",
        "<tr>\n",
        "    <th>Ejemplo</th>\n",
        "    <th>Número \"Tipo\"</th>\n",
        "    <th>Función asociada </th>\n",
        "</tr>\n",
        "\n",
        "<tr>\n",
        "    <td>1,2,-5,1000</td>\n",
        "    <td>Integers</td>\n",
        "    <td>int()</td>\n",
        "</tr>\n",
        "\n",
        "<tr>\n",
        "    <td>1.2,-0.5,2e2,3E2</td>\n",
        "    <td>Floating-point numbers</td>\n",
        "    <td>float()</td>\n",
        "</tr>\n",
        "\n",
        " </table>"
      ],
      "metadata": {
        "id": "1bGbLBkZVZ3p"
      }
    },
    {
      "cell_type": "markdown",
      "metadata": {
        "id": "5s4DlhTdlPbL"
      },
      "source": [
        "Operaciones aritméticas básicas"
      ]
    },
    {
      "cell_type": "code",
      "metadata": {
        "id": "sau11kl4cV8U",
        "colab": {
          "base_uri": "https://localhost:8080/"
        },
        "outputId": "fcd284ff-695f-4e0c-b72c-1105af00fe92"
      },
      "source": [
        "#realizar la operación de Suma\n",
        "\n",
        "2+1.2"
      ],
      "execution_count": null,
      "outputs": [
        {
          "output_type": "execute_result",
          "data": {
            "text/plain": [
              "3.2"
            ]
          },
          "metadata": {},
          "execution_count": 1
        }
      ]
    },
    {
      "cell_type": "code",
      "metadata": {
        "colab": {
          "base_uri": "https://localhost:8080/"
        },
        "id": "XXrdlaJXle-A",
        "outputId": "df5994ff-8517-48b0-e90a-044e4c69b685"
      },
      "source": [
        "# Resta\n",
        "2-1"
      ],
      "execution_count": null,
      "outputs": [
        {
          "output_type": "execute_result",
          "data": {
            "text/plain": [
              "1"
            ]
          },
          "metadata": {},
          "execution_count": 2
        }
      ]
    },
    {
      "cell_type": "code",
      "metadata": {
        "colab": {
          "base_uri": "https://localhost:8080/"
        },
        "id": "PAxetCuEljXy",
        "outputId": "c697b2fe-a4f7-450b-b2dd-a591cde8550e"
      },
      "source": [
        "# Multiplicación\n",
        "2*2"
      ],
      "execution_count": null,
      "outputs": [
        {
          "output_type": "execute_result",
          "data": {
            "text/plain": [
              "4"
            ]
          },
          "metadata": {},
          "execution_count": 3
        }
      ]
    },
    {
      "cell_type": "code",
      "metadata": {
        "colab": {
          "base_uri": "https://localhost:8080/"
        },
        "id": "TwIDgLVBloOW",
        "outputId": "c9352dd3-bdaf-46a9-f6cf-b6bae250db4e"
      },
      "source": [
        "# Division\n",
        "3/2"
      ],
      "execution_count": null,
      "outputs": [
        {
          "output_type": "execute_result",
          "data": {
            "text/plain": [
              "1.5"
            ]
          },
          "metadata": {},
          "execution_count": 4
        }
      ]
    },
    {
      "cell_type": "code",
      "metadata": {
        "colab": {
          "base_uri": "https://localhost:8080/"
        },
        "id": "a-D4pKdxoQfj",
        "outputId": "027c02ec-73d9-44e1-d683-c682ecc54637"
      },
      "source": [
        "#potencia\n",
        "2**4"
      ],
      "execution_count": null,
      "outputs": [
        {
          "output_type": "execute_result",
          "data": {
            "text/plain": [
              "16"
            ]
          },
          "metadata": {},
          "execution_count": 5
        }
      ]
    },
    {
      "cell_type": "code",
      "source": [
        "4**0.5"
      ],
      "metadata": {
        "colab": {
          "base_uri": "https://localhost:8080/"
        },
        "id": "2kcnmbQ2xZMQ",
        "outputId": "6a3648ba-52d9-4165-f78f-510be8cffe77"
      },
      "execution_count": null,
      "outputs": [
        {
          "output_type": "execute_result",
          "data": {
            "text/plain": [
              "2.0"
            ]
          },
          "metadata": {},
          "execution_count": 9
        }
      ]
    },
    {
      "cell_type": "markdown",
      "metadata": {
        "id": "tFgxVa_Lq6bY"
      },
      "source": [
        "### **2. STRINGS**\n"
      ]
    },
    {
      "cell_type": "markdown",
      "metadata": {
        "id": "rbhEcnEv0k9Y"
      },
      "source": [
        "Estos son una cadena de caracteres. Para crear un string se debe encerrar la cadena entre comillas dobles. También es posible entre comillas simples, pero en el caso del idioma inglés por ejemplo, nos dará error si en el texto hay una comilla simple. Frente a esto es mejor utilizar siempre comillas dobles."
      ]
    },
    {
      "cell_type": "code",
      "source": [
        "\"I'm Natalia\""
      ],
      "metadata": {
        "colab": {
          "base_uri": "https://localhost:8080/",
          "height": 35
        },
        "id": "l2QZq0Eyg2_P",
        "outputId": "4bbb7469-1852-4d44-8ac4-676fd0204ff3"
      },
      "execution_count": null,
      "outputs": [
        {
          "output_type": "execute_result",
          "data": {
            "text/plain": [
              "\"I'm Natalia\""
            ],
            "application/vnd.google.colaboratory.intrinsic+json": {
              "type": "string"
            }
          },
          "metadata": {},
          "execution_count": 12
        }
      ]
    },
    {
      "cell_type": "code",
      "source": [
        "\"I'm Natalia\""
      ],
      "metadata": {
        "colab": {
          "base_uri": "https://localhost:8080/",
          "height": 36
        },
        "id": "NZ67-TQHXx8l",
        "outputId": "2b154e17-619c-4ac8-afb6-2e6be9cf0104"
      },
      "execution_count": null,
      "outputs": [
        {
          "output_type": "execute_result",
          "data": {
            "text/plain": [
              "\"I'm Natalia\""
            ],
            "application/vnd.google.colaboratory.intrinsic+json": {
              "type": "string"
            }
          },
          "metadata": {},
          "execution_count": 8
        }
      ]
    },
    {
      "cell_type": "code",
      "metadata": {
        "colab": {
          "base_uri": "https://localhost:8080/",
          "height": 36
        },
        "id": "AkFiKACmq_Yf",
        "outputId": "971a99b2-7d2b-402f-e0e4-0c564a5a4e84"
      },
      "source": [
        "\"Taller de programación\" #definimos un string"
      ],
      "execution_count": null,
      "outputs": [
        {
          "output_type": "execute_result",
          "data": {
            "text/plain": [
              "'Taller de programación'"
            ],
            "application/vnd.google.colaboratory.intrinsic+json": {
              "type": "string"
            }
          },
          "metadata": {},
          "execution_count": 10
        }
      ]
    },
    {
      "cell_type": "code",
      "metadata": {
        "colab": {
          "base_uri": "https://localhost:8080/",
          "height": 35
        },
        "id": "XddXs__QWn3C",
        "outputId": "689d4625-09e4-42ac-d54f-bb33ec7c4c48"
      },
      "source": [
        "'Taller de programación'"
      ],
      "execution_count": null,
      "outputs": [
        {
          "output_type": "execute_result",
          "data": {
            "application/vnd.google.colaboratory.intrinsic+json": {
              "type": "string"
            },
            "text/plain": [
              "'Taller de programación'"
            ]
          },
          "metadata": {
            "tags": []
          },
          "execution_count": 17
        }
      ]
    },
    {
      "cell_type": "markdown",
      "metadata": {
        "id": "IgVZ65Aa4rSO"
      },
      "source": [
        "###**3.BOOLEANS**"
      ]
    },
    {
      "cell_type": "markdown",
      "metadata": {
        "id": "xW_Ys_gY7fLW"
      },
      "source": [
        "Este tipo solo puede devolver verdadero o falso. Resultan útiles para cuando se quiere establecer una condición en un proceso lógico (IF, WHILE que veremos en la próxima clase)"
      ]
    },
    {
      "cell_type": "markdown",
      "metadata": {
        "id": "UJowHnHhEjM9"
      },
      "source": [
        "<table class=\"table table-bordered\">\n",
        "<tr>\n",
        "<th style=\"width:10%\">Operador</th><th style=\"width:45%\">Descripción</th><th>Example</th>\n",
        "</tr>\n",
        "<tr>\n",
        "<td>==</td>\n",
        "<td>Si los valores son exactamente igual, la condición será verdadera.</td>\n",
        "<td> (a == b) is not true.</td>\n",
        "</tr>\n",
        "<tr>\n",
        "<td>!=</td>\n",
        "<td>Si los valores son distintos , la condición será verdadera.</td>\n",
        "<td> (a != b) is true.</td>\n",
        "</tr>\n",
        "<tr>\n",
        "<td>&gt;</td>\n",
        "<td>Si el valor de la izquierda es estrictamente mayor que el de la derecha, la condición devolverá verdadero.</td>\n",
        "<td> (a &gt; b) is not true.</td>\n",
        "</tr>\n",
        "<tr>\n",
        "<td>&lt;</td>\n",
        "<td>Si el valor de la izquierda es estrictamente menor que el de la derecha, la condición devolverá verdadero.</td>\n",
        "<td> (a &lt; b) is true.</td>\n",
        "</tr>\n",
        "<tr>\n",
        "<td>&gt;=</td>\n",
        "<td>Si el valor de la izquierda es mayor o igual que el de la derecha, la condición devolverá verdadero.</td>\n",
        "<td> (a &gt;= b) is not true. </td>\n",
        "</tr>\n",
        "<tr>\n",
        "<td>&lt;=</td>\n",
        "<td>Si el valor de la izquierda es menosr o igual que el de la derecha, la condición devolverá verdadero.</td>\n",
        "<td> (a &lt;= b) is true. </td>\n",
        "</tr>\n",
        "</table>"
      ]
    },
    {
      "cell_type": "code",
      "metadata": {
        "colab": {
          "base_uri": "https://localhost:8080/"
        },
        "id": "S4aENjV64qqx",
        "outputId": "be97a98d-a98a-40d0-a69c-e9e88ebb6ebd"
      },
      "source": [
        "1>2 #preguntamos si uno es mayor que dos"
      ],
      "execution_count": null,
      "outputs": [
        {
          "output_type": "execute_result",
          "data": {
            "text/plain": [
              "False"
            ]
          },
          "metadata": {},
          "execution_count": 13
        }
      ]
    },
    {
      "cell_type": "code",
      "metadata": {
        "colab": {
          "base_uri": "https://localhost:8080/"
        },
        "id": "SP9DZXy64eyf",
        "outputId": "ca4d547d-6d5c-4e9b-fc01-683bd760e3e9"
      },
      "source": [
        "2>1 #preguntamos si dos es mayor que uno"
      ],
      "execution_count": null,
      "outputs": [
        {
          "output_type": "execute_result",
          "data": {
            "text/plain": [
              "True"
            ]
          },
          "metadata": {},
          "execution_count": 14
        }
      ]
    },
    {
      "cell_type": "code",
      "metadata": {
        "colab": {
          "base_uri": "https://localhost:8080/"
        },
        "id": "77cxjlj68izh",
        "outputId": "b825b225-8e57-4596-b03b-7a6bda8ed9a5"
      },
      "source": [
        "2>=1 #preguntamos si dos es mayor o menor que uno"
      ],
      "execution_count": null,
      "outputs": [
        {
          "output_type": "execute_result",
          "data": {
            "text/plain": [
              "True"
            ]
          },
          "metadata": {
            "tags": []
          },
          "execution_count": 44
        }
      ]
    },
    {
      "cell_type": "code",
      "metadata": {
        "colab": {
          "base_uri": "https://localhost:8080/"
        },
        "id": "3D1pM9Ps8SsV",
        "outputId": "e6c56a67-5a0f-4e4d-8f06-3791a9ba1237"
      },
      "source": [
        "2==1 #preguntamos si dos es igual a uno"
      ],
      "execution_count": null,
      "outputs": [
        {
          "output_type": "execute_result",
          "data": {
            "text/plain": [
              "False"
            ]
          },
          "metadata": {},
          "execution_count": 11
        }
      ]
    },
    {
      "cell_type": "markdown",
      "metadata": {
        "id": "fWXYGlXR8pR8"
      },
      "source": [
        "Pensemos una pregunta de este tipo pero ahora con strings"
      ]
    },
    {
      "cell_type": "code",
      "source": [
        "\"casa\""
      ],
      "metadata": {
        "colab": {
          "base_uri": "https://localhost:8080/",
          "height": 35
        },
        "id": "33KYnoICigWs",
        "outputId": "e8fb9b5c-3a50-4a37-eb35-811913a33c4c"
      },
      "execution_count": null,
      "outputs": [
        {
          "output_type": "execute_result",
          "data": {
            "text/plain": [
              "'casa'"
            ],
            "application/vnd.google.colaboratory.intrinsic+json": {
              "type": "string"
            }
          },
          "metadata": {},
          "execution_count": 15
        }
      ]
    },
    {
      "cell_type": "code",
      "source": [
        "texto1=\"casa\""
      ],
      "metadata": {
        "id": "iz3HAGXiil05"
      },
      "execution_count": null,
      "outputs": []
    },
    {
      "cell_type": "code",
      "source": [
        "texto1"
      ],
      "metadata": {
        "colab": {
          "base_uri": "https://localhost:8080/",
          "height": 35
        },
        "id": "K6xBRCIdi2_r",
        "outputId": "a8ac1630-0f88-479c-aefe-875593a0803d"
      },
      "execution_count": null,
      "outputs": [
        {
          "output_type": "execute_result",
          "data": {
            "text/plain": [
              "'casa'"
            ],
            "application/vnd.google.colaboratory.intrinsic+json": {
              "type": "string"
            }
          },
          "metadata": {},
          "execution_count": 17
        }
      ]
    },
    {
      "cell_type": "code",
      "metadata": {
        "id": "g5Op0i7h8onW"
      },
      "source": [
        "texto1=\"casa\"\n",
        "texto2=\"CASA\""
      ],
      "execution_count": null,
      "outputs": []
    },
    {
      "cell_type": "code",
      "source": [
        "texto2"
      ],
      "metadata": {
        "colab": {
          "base_uri": "https://localhost:8080/",
          "height": 35
        },
        "id": "9yDSRaqP0Bzt",
        "outputId": "6fa05ea4-39e5-419b-e637-7925e9f49db1"
      },
      "execution_count": null,
      "outputs": [
        {
          "output_type": "execute_result",
          "data": {
            "text/plain": [
              "'CASA'"
            ],
            "application/vnd.google.colaboratory.intrinsic+json": {
              "type": "string"
            }
          },
          "metadata": {},
          "execution_count": 19
        }
      ]
    },
    {
      "cell_type": "code",
      "metadata": {
        "colab": {
          "base_uri": "https://localhost:8080/"
        },
        "id": "dVDu1Cdh83wU",
        "outputId": "b2c2a0f6-376b-4702-c837-2aead9530d00"
      },
      "source": [
        "texto1==texto2"
      ],
      "execution_count": null,
      "outputs": [
        {
          "output_type": "execute_result",
          "data": {
            "text/plain": [
              "False"
            ]
          },
          "metadata": {},
          "execution_count": 20
        }
      ]
    },
    {
      "cell_type": "markdown",
      "metadata": {
        "id": "FEa3Kbwn_g-I"
      },
      "source": [
        "Aplicando alguna de las funciones que vimos para strings podemos llegar  a resultados diferentes"
      ]
    },
    {
      "cell_type": "code",
      "source": [
        "texto3=texto1.upper()\n",
        "texto3"
      ],
      "metadata": {
        "colab": {
          "base_uri": "https://localhost:8080/",
          "height": 35
        },
        "id": "Wh-rfbnH04m_",
        "outputId": "78c4668f-e643-4344-c6d4-56db904a3394"
      },
      "execution_count": null,
      "outputs": [
        {
          "output_type": "execute_result",
          "data": {
            "text/plain": [
              "'CASA'"
            ],
            "application/vnd.google.colaboratory.intrinsic+json": {
              "type": "string"
            }
          },
          "metadata": {},
          "execution_count": 21
        }
      ]
    },
    {
      "cell_type": "code",
      "source": [
        "texto2==texto3"
      ],
      "metadata": {
        "colab": {
          "base_uri": "https://localhost:8080/"
        },
        "id": "fxNDjxOQkSde",
        "outputId": "23c67e98-2662-4260-9c3f-dd726c2f34c8"
      },
      "execution_count": null,
      "outputs": [
        {
          "output_type": "execute_result",
          "data": {
            "text/plain": [
              "True"
            ]
          },
          "metadata": {},
          "execution_count": 23
        }
      ]
    },
    {
      "cell_type": "code",
      "source": [
        "texto1"
      ],
      "metadata": {
        "colab": {
          "base_uri": "https://localhost:8080/",
          "height": 35
        },
        "id": "hOVlABJNaLdB",
        "outputId": "8d289f06-92cd-4c98-ae03-b3b4537dbea3"
      },
      "execution_count": null,
      "outputs": [
        {
          "output_type": "execute_result",
          "data": {
            "text/plain": [
              "'casa'"
            ],
            "application/vnd.google.colaboratory.intrinsic+json": {
              "type": "string"
            }
          },
          "metadata": {},
          "execution_count": 22
        }
      ]
    },
    {
      "cell_type": "code",
      "metadata": {
        "colab": {
          "base_uri": "https://localhost:8080/"
        },
        "id": "A-A05obT9S6a",
        "outputId": "e8f1ab57-09ad-4257-d107-14c021bb22db"
      },
      "source": [
        "texto1.upper()==texto2"
      ],
      "execution_count": null,
      "outputs": [
        {
          "output_type": "execute_result",
          "data": {
            "text/plain": [
              "True"
            ]
          },
          "metadata": {},
          "execution_count": 24
        }
      ]
    },
    {
      "cell_type": "code",
      "source": [
        "texto2.lower()"
      ],
      "metadata": {
        "colab": {
          "base_uri": "https://localhost:8080/",
          "height": 35
        },
        "id": "lgXB210D1Gxj",
        "outputId": "40b278d8-b0be-477f-af56-e65b42143854"
      },
      "execution_count": null,
      "outputs": [
        {
          "output_type": "execute_result",
          "data": {
            "text/plain": [
              "'casa'"
            ],
            "application/vnd.google.colaboratory.intrinsic+json": {
              "type": "string"
            }
          },
          "metadata": {},
          "execution_count": 24
        }
      ]
    },
    {
      "cell_type": "code",
      "metadata": {
        "colab": {
          "base_uri": "https://localhost:8080/"
        },
        "id": "ynfVjImo9fir",
        "outputId": "2b55f698-06d1-40b5-9b0b-3a441a36840e"
      },
      "source": [
        "texto1==texto2.lower()\n"
      ],
      "execution_count": null,
      "outputs": [
        {
          "output_type": "execute_result",
          "data": {
            "text/plain": [
              "True"
            ]
          },
          "metadata": {},
          "execution_count": 18
        }
      ]
    },
    {
      "cell_type": "code",
      "source": [
        "texto=\"Clases de estadística\""
      ],
      "metadata": {
        "id": "zdVwqA6hbtxl"
      },
      "execution_count": null,
      "outputs": []
    },
    {
      "cell_type": "code",
      "source": [
        "len(texto)"
      ],
      "metadata": {
        "colab": {
          "base_uri": "https://localhost:8080/"
        },
        "id": "boZjenEl1Neb",
        "outputId": "82d1bb3c-c205-467e-b9d8-9e573e30af30"
      },
      "execution_count": null,
      "outputs": [
        {
          "output_type": "execute_result",
          "data": {
            "text/plain": [
              "21"
            ]
          },
          "metadata": {},
          "execution_count": 26
        }
      ]
    },
    {
      "cell_type": "code",
      "metadata": {
        "id": "xGfNJKJX9Aac"
      },
      "source": [
        "texto3=len(texto1)\n",
        "texto4=len(texto2)"
      ],
      "execution_count": null,
      "outputs": []
    },
    {
      "cell_type": "code",
      "metadata": {
        "colab": {
          "base_uri": "https://localhost:8080/"
        },
        "id": "dghZiWao9Ng7",
        "outputId": "6f76d55f-4a40-4048-fc49-08c2bcfe1af0"
      },
      "source": [
        "texto3==texto4"
      ],
      "execution_count": null,
      "outputs": [
        {
          "output_type": "execute_result",
          "data": {
            "text/plain": [
              "True"
            ]
          },
          "metadata": {
            "tags": []
          },
          "execution_count": 51
        }
      ]
    },
    {
      "cell_type": "code",
      "source": [
        "texto3=\"Taller de programación\""
      ],
      "metadata": {
        "id": "el7xLSaA1Woi"
      },
      "execution_count": null,
      "outputs": []
    },
    {
      "cell_type": "code",
      "source": [
        "texto3"
      ],
      "metadata": {
        "colab": {
          "base_uri": "https://localhost:8080/",
          "height": 36
        },
        "id": "6Dz8MGbW1Znz",
        "outputId": "8c0971aa-9551-4a3a-f99a-d495dbfcfdee"
      },
      "execution_count": null,
      "outputs": [
        {
          "output_type": "execute_result",
          "data": {
            "text/plain": [
              "'Taller de programación'"
            ],
            "application/vnd.google.colaboratory.intrinsic+json": {
              "type": "string"
            }
          },
          "metadata": {},
          "execution_count": 22
        }
      ]
    },
    {
      "cell_type": "code",
      "source": [
        "len(texto3)"
      ],
      "metadata": {
        "colab": {
          "base_uri": "https://localhost:8080/"
        },
        "id": "19c3R5341bfn",
        "outputId": "882ac63e-78a5-43c3-c4b2-1de64d413846"
      },
      "execution_count": null,
      "outputs": [
        {
          "output_type": "execute_result",
          "data": {
            "text/plain": [
              "22"
            ]
          },
          "metadata": {},
          "execution_count": 23
        }
      ]
    },
    {
      "cell_type": "markdown",
      "metadata": {
        "id": "LV4nsX898P-P"
      },
      "source": [
        "###**4.LISTAS**"
      ]
    },
    {
      "cell_type": "markdown",
      "metadata": {
        "id": "JGeEgnPS-quj"
      },
      "source": [
        "El tipo más frecuente de secuencia de elementos son las **listas**. Las listas permiten combinar elementos de diferente tipo y son mutables. Al ser mutables, es decir, se puede cambiar su contenido, brindan flexibilidad a la hora de manipular objetos.\n",
        "Para crear una lista utilizamos corchetes y separamos los elementos con coma."
      ]
    },
    {
      "cell_type": "code",
      "metadata": {
        "id": "m8ar6RqY7rMH"
      },
      "source": [
        "lista=['uno', 'dos', 3, 4] #creamos una lista"
      ],
      "execution_count": null,
      "outputs": []
    },
    {
      "cell_type": "code",
      "metadata": {
        "colab": {
          "base_uri": "https://localhost:8080/"
        },
        "id": "bsGnvkm-cp1A",
        "outputId": "6d4ada13-31ba-4ea3-db49-66fd987f6882"
      },
      "source": [
        "type(lista)"
      ],
      "execution_count": null,
      "outputs": [
        {
          "output_type": "execute_result",
          "data": {
            "text/plain": [
              "list"
            ]
          },
          "metadata": {},
          "execution_count": 29
        }
      ]
    },
    {
      "cell_type": "code",
      "source": [
        "type(5)"
      ],
      "metadata": {
        "colab": {
          "base_uri": "https://localhost:8080/"
        },
        "id": "vlDPXfJ_mc9o",
        "outputId": "825931f6-cad8-4901-b06f-8f8c42ecf0c0"
      },
      "execution_count": null,
      "outputs": [
        {
          "output_type": "execute_result",
          "data": {
            "text/plain": [
              "int"
            ]
          },
          "metadata": {},
          "execution_count": 30
        }
      ]
    },
    {
      "cell_type": "code",
      "metadata": {
        "colab": {
          "base_uri": "https://localhost:8080/"
        },
        "id": "TRBoNK1tcclX",
        "outputId": "a50ba8d6-19d8-43b5-9aa4-e74fa646f665"
      },
      "source": [
        "lista"
      ],
      "execution_count": null,
      "outputs": [
        {
          "output_type": "execute_result",
          "data": {
            "text/plain": [
              "['uno', 'dos', 3, 4]"
            ]
          },
          "metadata": {},
          "execution_count": 28
        }
      ]
    },
    {
      "cell_type": "code",
      "metadata": {
        "colab": {
          "base_uri": "https://localhost:8080/",
          "height": 35
        },
        "id": "s981s4E2cffo",
        "outputId": "6ff2a213-2148-47e4-8d04-f08c752c96d5"
      },
      "source": [
        "# obtenemos un elemento de la lista por posición\n",
        "lista[0]"
      ],
      "execution_count": null,
      "outputs": [
        {
          "output_type": "execute_result",
          "data": {
            "text/plain": [
              "'uno'"
            ],
            "application/vnd.google.colaboratory.intrinsic+json": {
              "type": "string"
            }
          },
          "metadata": {},
          "execution_count": 31
        }
      ]
    },
    {
      "cell_type": "code",
      "source": [
        "lista[3]"
      ],
      "metadata": {
        "colab": {
          "base_uri": "https://localhost:8080/"
        },
        "id": "CBeJTMim3GSt",
        "outputId": "d534a71f-e985-41d2-8015-13430e4426c9"
      },
      "execution_count": null,
      "outputs": [
        {
          "output_type": "execute_result",
          "data": {
            "text/plain": [
              "4"
            ]
          },
          "metadata": {},
          "execution_count": 32
        }
      ]
    },
    {
      "cell_type": "code",
      "metadata": {
        "colab": {
          "base_uri": "https://localhost:8080/"
        },
        "id": "gwhV3rTScv7P",
        "outputId": "89f32d77-29b9-4827-fa21-aff61b30a06d"
      },
      "source": [
        "#obtenemos el mismo elemento de otra manera\n",
        "lista[1:3]"
      ],
      "execution_count": null,
      "outputs": [
        {
          "output_type": "execute_result",
          "data": {
            "text/plain": [
              "['dos', 3]"
            ]
          },
          "metadata": {},
          "execution_count": 35
        }
      ]
    },
    {
      "cell_type": "code",
      "source": [
        "lista[1:4]"
      ],
      "metadata": {
        "colab": {
          "base_uri": "https://localhost:8080/"
        },
        "id": "zs19Qq5N3aZV",
        "outputId": "955e0ab3-4a80-4023-ba9a-e62f5c3e9c42"
      },
      "execution_count": null,
      "outputs": [
        {
          "output_type": "execute_result",
          "data": {
            "text/plain": [
              "['dos', 3, 4]"
            ]
          },
          "metadata": {},
          "execution_count": 40
        }
      ]
    },
    {
      "cell_type": "code",
      "metadata": {
        "colab": {
          "base_uri": "https://localhost:8080/"
        },
        "id": "QX_4pBV7c4cI",
        "outputId": "4d9c829a-77e7-4bd6-963b-836f29aff07b"
      },
      "source": [
        "#vemos la cantidad de elementos que tiene nuestra lista\n",
        "len(lista)"
      ],
      "execution_count": null,
      "outputs": [
        {
          "output_type": "execute_result",
          "data": {
            "text/plain": [
              "4"
            ]
          },
          "metadata": {},
          "execution_count": 37
        }
      ]
    },
    {
      "cell_type": "code",
      "metadata": {
        "colab": {
          "base_uri": "https://localhost:8080/"
        },
        "id": "whoeD0UNc7Pj",
        "outputId": "2a9dcbd3-e60f-442b-ee9b-fd76357b7a4d"
      },
      "source": [
        "#agregamos un elemento a nuestra lista\n",
        "lista + ['item']"
      ],
      "execution_count": null,
      "outputs": [
        {
          "output_type": "execute_result",
          "data": {
            "text/plain": [
              "['uno', 'dos', 3, 4, 'item']"
            ]
          },
          "metadata": {},
          "execution_count": 36
        }
      ]
    },
    {
      "cell_type": "code",
      "metadata": {
        "colab": {
          "base_uri": "https://localhost:8080/"
        },
        "id": "of6pvFmldZnk",
        "outputId": "ca5f625b-ec20-4c8f-c66a-7b72fd6d7d67"
      },
      "source": [
        "# pero quedó agregado?\n",
        "lista"
      ],
      "execution_count": null,
      "outputs": [
        {
          "output_type": "execute_result",
          "data": {
            "text/plain": [
              "['uno', 'dos', 3, 4]"
            ]
          },
          "metadata": {},
          "execution_count": 37
        }
      ]
    },
    {
      "cell_type": "code",
      "metadata": {
        "colab": {
          "base_uri": "https://localhost:8080/"
        },
        "id": "ZzeylWzcdlcn",
        "outputId": "fe88dd1e-1543-422b-ba94-9903a6d2f4df"
      },
      "source": [
        "lista_1=lista + ['item']\n",
        "lista_1"
      ],
      "execution_count": null,
      "outputs": [
        {
          "output_type": "execute_result",
          "data": {
            "text/plain": [
              "['uno', 'dos', 3, 4, 'item']"
            ]
          },
          "metadata": {},
          "execution_count": 38
        }
      ]
    },
    {
      "cell_type": "code",
      "source": [
        "lista"
      ],
      "metadata": {
        "colab": {
          "base_uri": "https://localhost:8080/"
        },
        "id": "LzcUuGTq4042",
        "outputId": "b7dd1006-5637-4fcf-990a-0ed6bf9929e0"
      },
      "execution_count": null,
      "outputs": [
        {
          "output_type": "execute_result",
          "data": {
            "text/plain": [
              "['uno', 'dos', 3, 4]"
            ]
          },
          "metadata": {},
          "execution_count": 37
        }
      ]
    },
    {
      "cell_type": "code",
      "metadata": {
        "colab": {
          "base_uri": "https://localhost:8080/"
        },
        "id": "nMCkoCNGdsnk",
        "outputId": "b6f2aa35-3437-450a-d65f-5a216fd0443e"
      },
      "source": [
        "# podemos duplicar los elementos de la lista\n",
        "lista_1*2"
      ],
      "execution_count": null,
      "outputs": [
        {
          "output_type": "execute_result",
          "data": {
            "text/plain": [
              "['uno', 'dos', 3, 4, 'item', 'uno', 'dos', 3, 4, 'item']"
            ]
          },
          "metadata": {},
          "execution_count": 42
        }
      ]
    },
    {
      "cell_type": "code",
      "metadata": {
        "colab": {
          "base_uri": "https://localhost:8080/"
        },
        "id": "zO9r0b7wd0iK",
        "outputId": "e70968cc-c56d-4eeb-d36e-371b585e6103"
      },
      "source": [
        "#pero seguimos conservando la original lista_1\n",
        "lista_1"
      ],
      "execution_count": null,
      "outputs": [
        {
          "output_type": "execute_result",
          "data": {
            "text/plain": [
              "['uno', 'dos', 3, 4, 'item']"
            ]
          },
          "metadata": {},
          "execution_count": 43
        }
      ]
    },
    {
      "cell_type": "markdown",
      "metadata": {
        "id": "IQDO6n-oeHiJ"
      },
      "source": [
        "También podemos utilizar la función append() para acortar el camino cuando queremos agregar un elemento en forma definitiva, lo hacemos del siguiente modo"
      ]
    },
    {
      "cell_type": "markdown",
      "metadata": {
        "id": "qHn0KDgvi6nZ"
      },
      "source": [
        "Si queremos modificar un elemento de la lista"
      ]
    },
    {
      "cell_type": "code",
      "source": [
        "lista_1"
      ],
      "metadata": {
        "colab": {
          "base_uri": "https://localhost:8080/"
        },
        "id": "80tGs9ew5nq-",
        "outputId": "7d98a1c5-9da1-4136-92a4-37f3cc095d8f"
      },
      "execution_count": null,
      "outputs": [
        {
          "output_type": "execute_result",
          "data": {
            "text/plain": [
              "['uno', 'dos', 3, 4, 'item']"
            ]
          },
          "metadata": {},
          "execution_count": 43
        }
      ]
    },
    {
      "cell_type": "code",
      "metadata": {
        "id": "uffB7z9Si2q9"
      },
      "source": [
        "lista_1[4]=5 #reemplazar un elemento de la lista"
      ],
      "execution_count": null,
      "outputs": []
    },
    {
      "cell_type": "code",
      "metadata": {
        "colab": {
          "base_uri": "https://localhost:8080/"
        },
        "id": "XGPHGkykjJkq",
        "outputId": "d3649039-8998-4d94-cc21-085ed165e80e"
      },
      "source": [
        "lista_1"
      ],
      "execution_count": null,
      "outputs": [
        {
          "output_type": "execute_result",
          "data": {
            "text/plain": [
              "['uno', 'dos', 3, 4, 5]"
            ]
          },
          "metadata": {},
          "execution_count": 42
        }
      ]
    },
    {
      "cell_type": "code",
      "metadata": {
        "id": "Io3lvduTjJJL"
      },
      "source": [
        "lista_1[0:2]=[1,2] #reemplazar varios elementos de la lista"
      ],
      "execution_count": null,
      "outputs": []
    },
    {
      "cell_type": "code",
      "metadata": {
        "colab": {
          "base_uri": "https://localhost:8080/"
        },
        "id": "JIobktasjVcT",
        "outputId": "0c5a04f7-4e09-45cf-f765-8cfba2479729"
      },
      "source": [
        "lista_1"
      ],
      "execution_count": null,
      "outputs": [
        {
          "output_type": "execute_result",
          "data": {
            "text/plain": [
              "[1, 2, 3, 4, 5]"
            ]
          },
          "metadata": {},
          "execution_count": 44
        }
      ]
    },
    {
      "cell_type": "markdown",
      "source": [
        "# Sentencias de programación y creación de funciones"
      ],
      "metadata": {
        "id": "eHN8IZLBxGUL"
      }
    },
    {
      "cell_type": "markdown",
      "source": [
        "**Condicional IF**"
      ],
      "metadata": {
        "id": "midK3TUe0V-k"
      }
    },
    {
      "cell_type": "markdown",
      "source": [
        "La sentencia IF permite instruir acciones alternativas a realizar sobre un conjunto de resultados posibles.\n",
        "\n",
        "La sintaxis general es\n",
        "\n",
        "    if condición1:\n",
        "        realizá la acción1\n",
        "    elif condición2:\n",
        "        realizá la acción3\n",
        "    else:\n",
        "        realizá la acción3"
      ],
      "metadata": {
        "id": "6dxMcSF-4rjb"
      }
    },
    {
      "cell_type": "markdown",
      "metadata": {
        "id": "Yff-1v5a3XSj"
      },
      "source": [
        "Comenzemos con una instrucción simple"
      ]
    },
    {
      "cell_type": "code",
      "metadata": {
        "id": "nu9CQVcQ3XSj",
        "colab": {
          "base_uri": "https://localhost:8080/"
        },
        "outputId": "5f1959e2-7737-413b-dbff-e19cfae8c6eb"
      },
      "source": [
        "#definimos una variable sobre la cual operar\n",
        "x = True\n",
        "\n",
        "if x==True:\n",
        "  print('x es verdadero!')\n"
      ],
      "execution_count": null,
      "outputs": [
        {
          "output_type": "stream",
          "name": "stdout",
          "text": [
            "x es verdadero!\n"
          ]
        }
      ]
    },
    {
      "cell_type": "code",
      "metadata": {
        "id": "bup8wLXoe300"
      },
      "source": [
        "x = False\n",
        "\n",
        "if x==True:\n",
        "    print('x es verdadero!')"
      ],
      "execution_count": null,
      "outputs": []
    },
    {
      "cell_type": "markdown",
      "metadata": {
        "id": "L7F7s3rUe_5H"
      },
      "source": [
        "Si no se cumple la condición no devuelve nada. Entonces, podemos completar la alternativa del siguiente modo"
      ]
    },
    {
      "cell_type": "code",
      "metadata": {
        "colab": {
          "base_uri": "https://localhost:8080/"
        },
        "outputId": "b87e203a-0ffb-4aa2-871c-d0b0cce9c7db",
        "id": "4Jp25bcH3XSk"
      },
      "source": [
        "x = False\n",
        "\n",
        "if x==True:\n",
        "    print('x es verdadero!')\n",
        "else:\n",
        "    print('x no es verdadero!')"
      ],
      "execution_count": null,
      "outputs": [
        {
          "output_type": "stream",
          "name": "stdout",
          "text": [
            "x no es verdadero!\n"
          ]
        }
      ]
    },
    {
      "cell_type": "markdown",
      "metadata": {
        "id": "2wrl3Xc1fcq1"
      },
      "source": [
        "También podemos agregar más opciones de acción utilizando elif"
      ]
    },
    {
      "cell_type": "code",
      "metadata": {
        "colab": {
          "base_uri": "https://localhost:8080/"
        },
        "id": "OFjBkeXCfcHC",
        "outputId": "84fc694c-fa30-45db-f042-590544e54aa7"
      },
      "source": [
        "x = 'Banco'\n",
        "\n",
        "if x == 'Veterinaria':\n",
        "    print('Bienvenido a la Veterinaria!')\n",
        "elif x == 'Banco':\n",
        "    print('Bienvenido al banco!')\n",
        "else:\n",
        "    print('¿Donde estoy?!')"
      ],
      "execution_count": null,
      "outputs": [
        {
          "output_type": "stream",
          "name": "stdout",
          "text": [
            "Bienvenido al banco!\n"
          ]
        }
      ]
    },
    {
      "cell_type": "code",
      "metadata": {
        "colab": {
          "base_uri": "https://localhost:8080/"
        },
        "outputId": "9e4bd499-2417-492f-c042-af02df29bcf9",
        "id": "Ggb9uXoO3XSk"
      },
      "source": [
        "x = 1\n",
        "y = 3\n",
        "\n",
        "if x == 1 and y==0:\n",
        "    print(x+y)\n",
        "elif x == 1 and y==2:\n",
        "    print(x*y)\n",
        "else:\n",
        "    print('Nada')"
      ],
      "execution_count": null,
      "outputs": [
        {
          "output_type": "stream",
          "name": "stdout",
          "text": [
            "Nada\n"
          ]
        }
      ]
    },
    {
      "cell_type": "code",
      "source": [
        "x = 1\n",
        "y = 2\n",
        "\n",
        "if x == 1 and y==0:\n",
        "    print(x+y)\n",
        "elif x == 1 and y==2:\n",
        "    print(x*y)\n",
        "else:\n",
        "    print('Nada')"
      ],
      "metadata": {
        "colab": {
          "base_uri": "https://localhost:8080/"
        },
        "id": "T6xkKx8RsBHV",
        "outputId": "39e758f9-fdf5-476e-8ff1-6cb537ad0605"
      },
      "execution_count": null,
      "outputs": [
        {
          "output_type": "stream",
          "name": "stdout",
          "text": [
            "2\n"
          ]
        }
      ]
    },
    {
      "cell_type": "markdown",
      "source": [
        "**Bucle FOR**"
      ],
      "metadata": {
        "id": "HiJ5EsBY0nIs"
      }
    },
    {
      "cell_type": "markdown",
      "metadata": {
        "id": "pwg8CyiR3XSk"
      },
      "source": [
        "La sentencia FOR permite iterar sobre diferentes objetos como por ejemplo una secuencia o cualquier objeto iterable y realizar diferentes acciones.\n",
        "\n",
        "La sintaxis general es\n",
        "\n",
        "    for item in object:\n",
        "        determinar acciones a realizar\n"
      ]
    },
    {
      "cell_type": "code",
      "metadata": {
        "id": "WRh9S9liy1Bp"
      },
      "source": [
        "list1 = [1,2,3,4,5,6,7,8,9,10]  #también se puede definir una lista de strings"
      ],
      "execution_count": null,
      "outputs": []
    },
    {
      "cell_type": "code",
      "metadata": {
        "colab": {
          "base_uri": "https://localhost:8080/"
        },
        "outputId": "a761c300-8fa1-4382-9a00-26671e01c1fe",
        "id": "PNDcT9563XSl"
      },
      "source": [
        "for i in list1:\n",
        "   print(i)"
      ],
      "execution_count": null,
      "outputs": [
        {
          "output_type": "stream",
          "name": "stdout",
          "text": [
            "1\n",
            "2\n",
            "3\n",
            "4\n",
            "5\n",
            "6\n",
            "7\n",
            "8\n",
            "9\n",
            "10\n"
          ]
        }
      ]
    },
    {
      "cell_type": "code",
      "source": [
        "#obtenemos los elementos que cumplen con una condición\n",
        "for i in list1:\n",
        "    if i % 2 == 0: #si el resto de la división es igual a 0\n",
        "       print(i)\n",
        "    elif  i % 2 != 0:\n",
        "       print(i*2)"
      ],
      "metadata": {
        "colab": {
          "base_uri": "https://localhost:8080/"
        },
        "id": "Z5XT0A21066b",
        "outputId": "7a899da7-f7a2-4da7-cb94-1411fa3f6047"
      },
      "execution_count": null,
      "outputs": [
        {
          "output_type": "stream",
          "name": "stdout",
          "text": [
            "2\n",
            "2\n",
            "6\n",
            "4\n",
            "10\n",
            "6\n",
            "14\n",
            "8\n",
            "18\n",
            "10\n"
          ]
        }
      ]
    },
    {
      "cell_type": "code",
      "source": [
        "list1"
      ],
      "metadata": {
        "colab": {
          "base_uri": "https://localhost:8080/"
        },
        "id": "2g3BY96g_CFb",
        "outputId": "b24c4728-f8fb-43b1-c4aa-03cedebef12d"
      },
      "execution_count": null,
      "outputs": [
        {
          "output_type": "execute_result",
          "data": {
            "text/plain": [
              "[1, 2, 3, 4, 5, 6, 7, 8, 9, 10]"
            ]
          },
          "metadata": {},
          "execution_count": 60
        }
      ]
    },
    {
      "cell_type": "code",
      "source": [
        "# o podemos obtener un único resultado\n",
        "list_sum = 0\n",
        "\n",
        "for i in list1:\n",
        "    list_sum = list_sum + i\n",
        "\n",
        "\n",
        "print(list_sum)"
      ],
      "metadata": {
        "id": "c3SvSixu1EF_",
        "colab": {
          "base_uri": "https://localhost:8080/"
        },
        "outputId": "3e0c6bc9-1cae-461e-c373-efd38d761fee"
      },
      "execution_count": null,
      "outputs": [
        {
          "output_type": "stream",
          "name": "stdout",
          "text": [
            "55\n"
          ]
        }
      ]
    },
    {
      "cell_type": "markdown",
      "source": [
        "**WHILE**"
      ],
      "metadata": {
        "id": "1YzwFC9_1fVy"
      }
    },
    {
      "cell_type": "code",
      "metadata": {
        "colab": {
          "base_uri": "https://localhost:8080/"
        },
        "id": "h9LlykRVUZMk",
        "outputId": "e3165b56-bbf2-4fa6-aece-02d8dbd9cb46"
      },
      "source": [
        "x = 0\n",
        "\n",
        "while x < 10:\n",
        "    print(x)\n",
        "    x+=1"
      ],
      "execution_count": null,
      "outputs": [
        {
          "output_type": "stream",
          "name": "stdout",
          "text": [
            "0\n",
            "1\n",
            "2\n",
            "3\n",
            "4\n",
            "5\n",
            "6\n",
            "7\n",
            "8\n",
            "9\n"
          ]
        }
      ]
    },
    {
      "cell_type": "markdown",
      "metadata": {
        "id": "eEIw4OH4VPOy"
      },
      "source": [
        "Podemos completar la sintaxis del siguiente modo"
      ]
    },
    {
      "cell_type": "code",
      "metadata": {
        "colab": {
          "base_uri": "https://localhost:8080/"
        },
        "id": "z_VLvCY1VOQn",
        "outputId": "bd539a5a-f144-4e0e-cf88-0dd2f0eda2d5"
      },
      "source": [
        "x = 0\n",
        "\n",
        "while x < 10:\n",
        "    print(x)\n",
        "    x+=1\n",
        "else:\n",
        "  print('trabajo finalizado')"
      ],
      "execution_count": null,
      "outputs": [
        {
          "output_type": "stream",
          "name": "stdout",
          "text": [
            "0\n",
            "1\n",
            "2\n",
            "3\n",
            "4\n",
            "5\n",
            "6\n",
            "7\n",
            "8\n",
            "9\n",
            "trabajo finalizado\n"
          ]
        }
      ]
    },
    {
      "cell_type": "markdown",
      "metadata": {
        "id": "1543kfuhVvJM"
      },
      "source": [
        "Podriamos necesitar encontrar mediante las iteraciones un valor puntual"
      ]
    },
    {
      "cell_type": "code",
      "metadata": {
        "colab": {
          "base_uri": "https://localhost:8080/"
        },
        "id": "UOOMHtG_VucA",
        "outputId": "c1db0264-df2e-49e9-9d41-b2bb14d91bc3"
      },
      "source": [
        "x = 0\n",
        "\n",
        "while x < 10:\n",
        "    print(x)\n",
        "    x+=1\n",
        "    if x==3:\n",
        "        print('x es igual a 3')  # cuando se cumple la condición que nos avise\n",
        "    else:\n",
        "        continue # y luego que continúe\n",
        "else:\n",
        "  print('trabajo finalizado')"
      ],
      "execution_count": null,
      "outputs": [
        {
          "output_type": "stream",
          "name": "stdout",
          "text": [
            "0\n",
            "1\n",
            "2\n",
            "x es igual a 3\n",
            "3\n",
            "4\n",
            "5\n",
            "6\n",
            "7\n",
            "8\n",
            "9\n",
            "trabajo finalizado\n"
          ]
        }
      ]
    },
    {
      "cell_type": "markdown",
      "metadata": {
        "id": "PkpL5sh5W3hD"
      },
      "source": [
        "O podriamos querer que cuando encuentre un valor buscado nos avise, lo imprima y termine el ciclo"
      ]
    },
    {
      "cell_type": "code",
      "metadata": {
        "colab": {
          "base_uri": "https://localhost:8080/"
        },
        "id": "2RUBNeVqW3Et",
        "outputId": "23f509be-a6d6-40fd-994a-aa926ece09ce"
      },
      "source": [
        "x = 0\n",
        "\n",
        "while x < 10:\n",
        "    print(x) #comentamos esta instancia si solo queremos nos muestre el valor buscado\n",
        "    x+=1\n",
        "    if x==3:\n",
        "        #print('x es igual a 3')\n",
        "        print(x)\n",
        "        print('Trabajo exitoso')\n",
        "        break #finaliza el ciclo\n",
        "    else: # agregamos la instancia else porque si nunca se cumple la condición pretendemos que continue hasta el final (probar cambiando en el if por 11).\n",
        "        continue\n",
        "else: print('trabajo finalizado')\n"
      ],
      "execution_count": null,
      "outputs": [
        {
          "output_type": "stream",
          "name": "stdout",
          "text": [
            "0\n",
            "1\n",
            "2\n",
            "3\n",
            "Trabajo exitoso\n"
          ]
        }
      ]
    },
    {
      "cell_type": "markdown",
      "source": [
        "**Creación de funciones**"
      ],
      "metadata": {
        "id": "XDnEgpth1MV_"
      }
    },
    {
      "cell_type": "markdown",
      "metadata": {
        "id": "KPuzf0bg3XSo"
      },
      "source": [
        "Formalmente, una función es un conjunto de declaraciones que se pueden ejecutar más de una vez. También nos permite pasarle parámetros con los cuales operará.\n",
        "\n",
        "En definitiva, las funciones nos evitan tener que escribir reiteradamente un código. Por ejemplo, cuando utlizamos la función len() verificamos el tamaño de la lista sin tener que hacerlo con desarrollo de un código.\n",
        "\n",
        "La sintaxis general es\n",
        "\n",
        "    def nombre_de_la_funcion(arg1,arg2):\n",
        "   \n",
        "    '''\n",
        "   \n",
        "    #Generalmente se recomienda describir la función (documentar)\n",
        "   \n",
        "    '''\n",
        "   \n",
        "    Bloque de código\n",
        "   \n",
        "    Return (el reultado)"
      ]
    },
    {
      "cell_type": "code",
      "metadata": {
        "id": "lsMA81tK3XSo"
      },
      "source": [
        "def suma_num(num1,num2):\n",
        "    resultado=num1+num2\n",
        "    return resultado #retorna la suma de dos números"
      ],
      "execution_count": null,
      "outputs": []
    },
    {
      "cell_type": "code",
      "metadata": {
        "colab": {
          "base_uri": "https://localhost:8080/"
        },
        "id": "StX4WYSEC_b8",
        "outputId": "bd7875a7-0203-4c3c-98b1-a4f0b706e063"
      },
      "source": [
        "suma_num(1,2)"
      ],
      "execution_count": null,
      "outputs": [
        {
          "output_type": "execute_result",
          "data": {
            "text/plain": [
              "3"
            ]
          },
          "metadata": {},
          "execution_count": 58
        }
      ]
    },
    {
      "cell_type": "code",
      "source": [
        "suma_num(2,3)"
      ],
      "metadata": {
        "colab": {
          "base_uri": "https://localhost:8080/"
        },
        "id": "SzpWWWb7lggF",
        "outputId": "cdff9086-8b10-45a8-bb15-8fe2ab32fde7"
      },
      "execution_count": null,
      "outputs": [
        {
          "output_type": "execute_result",
          "data": {
            "text/plain": [
              "5"
            ]
          },
          "metadata": {},
          "execution_count": 68
        }
      ]
    },
    {
      "cell_type": "markdown",
      "metadata": {
        "id": "620Kyb8ToMwz"
      },
      "source": [
        "También podría ser util tener una función que cuente las veces que aparece una palabra en un campo de mis datos"
      ]
    },
    {
      "cell_type": "code",
      "metadata": {
        "id": "f2M21aMpnc7f"
      },
      "source": [
        "def buscar_palabra(lista, palabra):\n",
        "    #cuenta las veces que aparece una palabra (o podría pensarse en buscar un producto, etc)\n",
        "    for n,i in enumerate(lista):\n",
        "      if i ==palabra :\n",
        "       result=lista.count(palabra)\n",
        "    return result"
      ],
      "execution_count": null,
      "outputs": []
    },
    {
      "cell_type": "code",
      "metadata": {
        "colab": {
          "base_uri": "https://localhost:8080/"
        },
        "id": "9RiFnJuCoEec",
        "outputId": "34f93af4-dac1-492e-8967-050e68fdafc1"
      },
      "source": [
        "lista_txt=['casa', 'departamento', 'mansion', 'casa']\n",
        "\n",
        "buscar_palabra(lista_txt, 'casa')"
      ],
      "execution_count": null,
      "outputs": [
        {
          "output_type": "execute_result",
          "data": {
            "text/plain": [
              "2"
            ]
          },
          "metadata": {},
          "execution_count": 70
        }
      ]
    }
  ]
}